{
 "cells": [
  {
   "cell_type": "code",
   "execution_count": 1,
   "id": "7ac7c4e7-e0ce-4931-937d-c9fb1e227329",
   "metadata": {
    "collapsed": true,
    "jupyter": {
     "outputs_hidden": true
    }
   },
   "outputs": [
    {
     "name": "stdout",
     "output_type": "stream",
     "text": [
      "Collecting yfinance\n",
      "  Downloading yfinance-0.2.31-py2.py3-none-any.whl (65 kB)\n",
      "                                              0.0/65.6 kB ? eta -:--:--\n",
      "     -----------------------                41.0/65.6 kB 960.0 kB/s eta 0:00:01\n",
      "     -------------------------------------- 65.6/65.6 kB 700.2 kB/s eta 0:00:00\n",
      "Requirement already satisfied: pandas>=1.3.0 in c:\\users\\utente\\desktop\\python stuff\\lib\\site-packages (from yfinance) (2.0.3)\n",
      "Requirement already satisfied: numpy>=1.16.5 in c:\\users\\utente\\desktop\\python stuff\\lib\\site-packages (from yfinance) (1.24.3)\n",
      "Requirement already satisfied: requests>=2.31 in c:\\users\\utente\\desktop\\python stuff\\lib\\site-packages (from yfinance) (2.31.0)\n",
      "Collecting multitasking>=0.0.7 (from yfinance)\n",
      "  Downloading multitasking-0.0.11-py3-none-any.whl (8.5 kB)\n",
      "Collecting lxml>=4.9.1 (from yfinance)\n",
      "  Downloading lxml-4.9.3-cp311-cp311-win_amd64.whl (3.8 MB)\n",
      "                                              0.0/3.8 MB ? eta -:--:--\n",
      "                                              0.0/3.8 MB 960.0 kB/s eta 0:00:04\n",
      "                                              0.1/3.8 MB 1.1 MB/s eta 0:00:04\n",
      "     -                                        0.1/3.8 MB 819.2 kB/s eta 0:00:05\n",
      "     -                                        0.2/3.8 MB 833.5 kB/s eta 0:00:05\n",
      "     --                                       0.2/3.8 MB 981.9 kB/s eta 0:00:04\n",
      "     ---                                      0.3/3.8 MB 1.0 MB/s eta 0:00:04\n",
      "     ---                                      0.4/3.8 MB 1.1 MB/s eta 0:00:04\n",
      "     ----                                     0.4/3.8 MB 1.1 MB/s eta 0:00:04\n",
      "     -----                                    0.5/3.8 MB 1.2 MB/s eta 0:00:03\n",
      "     -----                                    0.5/3.8 MB 1.2 MB/s eta 0:00:03\n",
      "     ------                                   0.6/3.8 MB 1.2 MB/s eta 0:00:03\n",
      "     -------                                  0.7/3.8 MB 1.2 MB/s eta 0:00:03\n",
      "     -------                                  0.7/3.8 MB 1.2 MB/s eta 0:00:03\n",
      "     --------                                 0.8/3.8 MB 1.2 MB/s eta 0:00:03\n",
      "     ---------                                0.8/3.8 MB 1.2 MB/s eta 0:00:03\n",
      "     ---------                                0.9/3.8 MB 1.2 MB/s eta 0:00:03\n",
      "     ---------                                0.9/3.8 MB 1.2 MB/s eta 0:00:03\n",
      "     ----------                               1.0/3.8 MB 1.2 MB/s eta 0:00:03\n",
      "     -----------                              1.1/3.8 MB 1.2 MB/s eta 0:00:03\n",
      "     -----------                              1.1/3.8 MB 1.2 MB/s eta 0:00:03\n",
      "     ------------                             1.2/3.8 MB 1.2 MB/s eta 0:00:03\n",
      "     -------------                            1.2/3.8 MB 1.2 MB/s eta 0:00:03\n",
      "     -------------                            1.3/3.8 MB 1.2 MB/s eta 0:00:03\n",
      "     --------------                           1.3/3.8 MB 1.2 MB/s eta 0:00:03\n",
      "     --------------                           1.4/3.8 MB 1.2 MB/s eta 0:00:03\n",
      "     --------------                           1.4/3.8 MB 1.2 MB/s eta 0:00:03\n",
      "     ---------------                          1.5/3.8 MB 1.2 MB/s eta 0:00:02\n",
      "     ---------------                          1.5/3.8 MB 1.1 MB/s eta 0:00:02\n",
      "     ----------------                         1.5/3.8 MB 1.1 MB/s eta 0:00:02\n",
      "     ----------------                         1.6/3.8 MB 1.1 MB/s eta 0:00:02\n",
      "     -----------------                        1.7/3.8 MB 1.1 MB/s eta 0:00:02\n",
      "     ------------------                       1.7/3.8 MB 1.1 MB/s eta 0:00:02\n",
      "     ------------------                       1.8/3.8 MB 1.1 MB/s eta 0:00:02\n",
      "     -------------------                      1.8/3.8 MB 1.1 MB/s eta 0:00:02\n",
      "     -------------------                      1.9/3.8 MB 1.2 MB/s eta 0:00:02\n",
      "     --------------------                     1.9/3.8 MB 1.2 MB/s eta 0:00:02\n",
      "     ---------------------                    2.0/3.8 MB 1.2 MB/s eta 0:00:02\n",
      "     ---------------------                    2.0/3.8 MB 1.2 MB/s eta 0:00:02\n",
      "     ----------------------                   2.1/3.8 MB 1.2 MB/s eta 0:00:02\n",
      "     -----------------------                  2.2/3.8 MB 1.2 MB/s eta 0:00:02\n",
      "     -----------------------                  2.2/3.8 MB 1.2 MB/s eta 0:00:02\n",
      "     ------------------------                 2.3/3.8 MB 1.2 MB/s eta 0:00:02\n",
      "     -------------------------                2.4/3.8 MB 1.2 MB/s eta 0:00:02\n",
      "     -------------------------                2.4/3.8 MB 1.2 MB/s eta 0:00:02\n",
      "     -------------------------                2.4/3.8 MB 1.2 MB/s eta 0:00:02\n",
      "     --------------------------               2.5/3.8 MB 1.2 MB/s eta 0:00:02\n",
      "     --------------------------               2.5/3.8 MB 1.2 MB/s eta 0:00:02\n",
      "     ---------------------------              2.6/3.8 MB 1.1 MB/s eta 0:00:02\n",
      "     ----------------------------             2.6/3.8 MB 1.2 MB/s eta 0:00:01\n",
      "     ----------------------------             2.7/3.8 MB 1.2 MB/s eta 0:00:01\n",
      "     -----------------------------            2.8/3.8 MB 1.2 MB/s eta 0:00:01\n",
      "     ------------------------------           2.8/3.8 MB 1.2 MB/s eta 0:00:01\n",
      "     ------------------------------           2.9/3.8 MB 1.2 MB/s eta 0:00:01\n",
      "     -------------------------------          2.9/3.8 MB 1.2 MB/s eta 0:00:01\n",
      "     -------------------------------          3.0/3.8 MB 1.2 MB/s eta 0:00:01\n",
      "     --------------------------------         3.0/3.8 MB 1.2 MB/s eta 0:00:01\n",
      "     --------------------------------         3.1/3.8 MB 1.2 MB/s eta 0:00:01\n",
      "     ---------------------------------        3.1/3.8 MB 1.2 MB/s eta 0:00:01\n",
      "     ---------------------------------        3.2/3.8 MB 1.2 MB/s eta 0:00:01\n",
      "     ----------------------------------       3.3/3.8 MB 1.2 MB/s eta 0:00:01\n",
      "     -----------------------------------      3.3/3.8 MB 1.2 MB/s eta 0:00:01\n",
      "     -----------------------------------      3.4/3.8 MB 1.2 MB/s eta 0:00:01\n",
      "     ------------------------------------     3.4/3.8 MB 1.2 MB/s eta 0:00:01\n",
      "     ------------------------------------     3.5/3.8 MB 1.2 MB/s eta 0:00:01\n",
      "     -------------------------------------    3.6/3.8 MB 1.2 MB/s eta 0:00:01\n",
      "     --------------------------------------   3.6/3.8 MB 1.2 MB/s eta 0:00:01\n",
      "     --------------------------------------   3.7/3.8 MB 1.2 MB/s eta 0:00:01\n",
      "     ---------------------------------------  3.7/3.8 MB 1.2 MB/s eta 0:00:01\n",
      "     ---------------------------------------- 3.8/3.8 MB 1.2 MB/s eta 0:00:00\n",
      "Requirement already satisfied: appdirs>=1.4.4 in c:\\users\\utente\\desktop\\python stuff\\lib\\site-packages (from yfinance) (1.4.4)\n",
      "Requirement already satisfied: pytz>=2022.5 in c:\\users\\utente\\desktop\\python stuff\\lib\\site-packages (from yfinance) (2023.3)\n",
      "Collecting frozendict>=2.3.4 (from yfinance)\n",
      "  Downloading frozendict-2.3.8-py311-none-any.whl (14 kB)\n",
      "Collecting peewee>=3.16.2 (from yfinance)\n",
      "  Downloading peewee-3.17.0.tar.gz (2.9 MB)\n",
      "                                              0.0/2.9 MB ? eta -:--:--\n",
      "                                              0.0/2.9 MB ? eta -:--:--\n",
      "                                              0.0/2.9 MB ? eta -:--:--\n",
      "     -                                        0.1/2.9 MB ? eta -:--:--\n",
      "     --                                       0.2/2.9 MB 2.9 MB/s eta 0:00:01\n",
      "     ---                                      0.3/2.9 MB 2.2 MB/s eta 0:00:02\n",
      "     ----                                     0.3/2.9 MB 2.1 MB/s eta 0:00:02\n",
      "     ----                                     0.4/2.9 MB 1.9 MB/s eta 0:00:02\n",
      "     -----                                    0.4/2.9 MB 1.6 MB/s eta 0:00:02\n",
      "     ------                                   0.5/2.9 MB 1.5 MB/s eta 0:00:02\n",
      "     ------                                   0.5/2.9 MB 1.4 MB/s eta 0:00:02\n",
      "     -------                                  0.6/2.9 MB 1.4 MB/s eta 0:00:02\n",
      "     --------                                 0.6/2.9 MB 1.4 MB/s eta 0:00:02\n",
      "     --------                                 0.7/2.9 MB 1.3 MB/s eta 0:00:02\n",
      "     ---------                                0.7/2.9 MB 1.3 MB/s eta 0:00:02\n",
      "     ----------                               0.7/2.9 MB 1.3 MB/s eta 0:00:02\n",
      "     -----------                              0.8/2.9 MB 1.3 MB/s eta 0:00:02\n",
      "     -----------                              0.9/2.9 MB 1.3 MB/s eta 0:00:02\n",
      "     ------------                             0.9/2.9 MB 1.3 MB/s eta 0:00:02\n",
      "     -------------                            1.0/2.9 MB 1.3 MB/s eta 0:00:02\n",
      "     --------------                           1.1/2.9 MB 1.3 MB/s eta 0:00:02\n",
      "     ---------------                          1.1/2.9 MB 1.3 MB/s eta 0:00:02\n",
      "     ---------------                          1.2/2.9 MB 1.3 MB/s eta 0:00:02\n",
      "     ----------------                         1.2/2.9 MB 1.3 MB/s eta 0:00:02\n",
      "     -----------------                        1.3/2.9 MB 1.3 MB/s eta 0:00:02\n",
      "     ------------------                       1.4/2.9 MB 1.3 MB/s eta 0:00:02\n",
      "     ------------------                       1.4/2.9 MB 1.3 MB/s eta 0:00:02\n",
      "     -------------------                      1.5/2.9 MB 1.3 MB/s eta 0:00:02\n",
      "     --------------------                     1.5/2.9 MB 1.3 MB/s eta 0:00:02\n",
      "     --------------------                     1.5/2.9 MB 1.2 MB/s eta 0:00:02\n",
      "     ---------------------                    1.6/2.9 MB 1.2 MB/s eta 0:00:02\n",
      "     ----------------------                   1.6/2.9 MB 1.2 MB/s eta 0:00:02\n",
      "     -----------------------                  1.7/2.9 MB 1.2 MB/s eta 0:00:01\n",
      "     ------------------------                 1.8/2.9 MB 1.2 MB/s eta 0:00:01\n",
      "     ------------------------                 1.8/2.9 MB 1.2 MB/s eta 0:00:01\n",
      "     -------------------------                1.9/2.9 MB 1.2 MB/s eta 0:00:01\n",
      "     --------------------------               1.9/2.9 MB 1.2 MB/s eta 0:00:01\n",
      "     --------------------------               2.0/2.9 MB 1.2 MB/s eta 0:00:01\n",
      "     ---------------------------              2.0/2.9 MB 1.2 MB/s eta 0:00:01\n",
      "     ----------------------------             2.1/2.9 MB 1.2 MB/s eta 0:00:01\n",
      "     ----------------------------             2.1/2.9 MB 1.2 MB/s eta 0:00:01\n",
      "     -----------------------------            2.2/2.9 MB 1.2 MB/s eta 0:00:01\n",
      "     ------------------------------           2.2/2.9 MB 1.2 MB/s eta 0:00:01\n",
      "     -------------------------------          2.3/2.9 MB 1.2 MB/s eta 0:00:01\n",
      "     -------------------------------          2.4/2.9 MB 1.2 MB/s eta 0:00:01\n",
      "     --------------------------------         2.4/2.9 MB 1.2 MB/s eta 0:00:01\n",
      "     ---------------------------------        2.4/2.9 MB 1.2 MB/s eta 0:00:01\n",
      "     ---------------------------------        2.5/2.9 MB 1.2 MB/s eta 0:00:01\n",
      "     ----------------------------------       2.5/2.9 MB 1.2 MB/s eta 0:00:01\n",
      "     -----------------------------------      2.6/2.9 MB 1.2 MB/s eta 0:00:01\n",
      "     ------------------------------------     2.7/2.9 MB 1.2 MB/s eta 0:00:01\n",
      "     ------------------------------------     2.7/2.9 MB 1.2 MB/s eta 0:00:01\n",
      "     -------------------------------------    2.8/2.9 MB 1.2 MB/s eta 0:00:01\n",
      "     --------------------------------------   2.9/2.9 MB 1.2 MB/s eta 0:00:01\n",
      "     ---------------------------------------  2.9/2.9 MB 1.2 MB/s eta 0:00:01\n",
      "     ---------------------------------------- 2.9/2.9 MB 1.2 MB/s eta 0:00:00\n",
      "  Installing build dependencies: started\n",
      "  Installing build dependencies: finished with status 'done'\n",
      "  Getting requirements to build wheel: started\n",
      "  Getting requirements to build wheel: finished with status 'done'\n",
      "  Preparing metadata (pyproject.toml): started\n",
      "  Preparing metadata (pyproject.toml): finished with status 'done'\n",
      "Requirement already satisfied: beautifulsoup4>=4.11.1 in c:\\users\\utente\\desktop\\python stuff\\lib\\site-packages (from yfinance) (4.12.2)\n",
      "Collecting html5lib>=1.1 (from yfinance)\n",
      "  Downloading html5lib-1.1-py2.py3-none-any.whl (112 kB)\n",
      "                                              0.0/112.2 kB ? eta -:--:--\n",
      "     --------------                          41.0/112.2 kB 2.0 MB/s eta 0:00:01\n",
      "     --------------------------------        92.2/112.2 kB 1.3 MB/s eta 0:00:01\n",
      "     -------------------------------------- 112.2/112.2 kB 1.3 MB/s eta 0:00:00\n",
      "Requirement already satisfied: soupsieve>1.2 in c:\\users\\utente\\desktop\\python stuff\\lib\\site-packages (from beautifulsoup4>=4.11.1->yfinance) (2.5)\n",
      "Requirement already satisfied: six>=1.9 in c:\\users\\utente\\desktop\\python stuff\\lib\\site-packages (from html5lib>=1.1->yfinance) (1.16.0)\n",
      "Requirement already satisfied: webencodings in c:\\users\\utente\\desktop\\python stuff\\lib\\site-packages (from html5lib>=1.1->yfinance) (0.5.1)\n",
      "Requirement already satisfied: python-dateutil>=2.8.2 in c:\\users\\utente\\desktop\\python stuff\\lib\\site-packages (from pandas>=1.3.0->yfinance) (2.8.2)\n",
      "Requirement already satisfied: tzdata>=2022.1 in c:\\users\\utente\\desktop\\python stuff\\lib\\site-packages (from pandas>=1.3.0->yfinance) (2023.3)\n",
      "Requirement already satisfied: charset-normalizer<4,>=2 in c:\\users\\utente\\desktop\\python stuff\\lib\\site-packages (from requests>=2.31->yfinance) (3.2.0)\n",
      "Requirement already satisfied: idna<4,>=2.5 in c:\\users\\utente\\desktop\\python stuff\\lib\\site-packages (from requests>=2.31->yfinance) (3.4)\n",
      "Requirement already satisfied: urllib3<3,>=1.21.1 in c:\\users\\utente\\desktop\\python stuff\\lib\\site-packages (from requests>=2.31->yfinance) (1.26.16)\n",
      "Requirement already satisfied: certifi>=2017.4.17 in c:\\users\\utente\\desktop\\python stuff\\lib\\site-packages (from requests>=2.31->yfinance) (2023.7.22)\n",
      "Building wheels for collected packages: peewee\n",
      "  Building wheel for peewee (pyproject.toml): started\n",
      "  Building wheel for peewee (pyproject.toml): finished with status 'done'\n",
      "  Created wheel for peewee: filename=peewee-3.17.0-py3-none-any.whl size=135766 sha256=d5d99df8ef20a38735db8ae69cf116facc814e89fcff51410c872af1f1c98c11\n",
      "  Stored in directory: c:\\users\\utente\\appdata\\local\\pip\\cache\\wheels\\02\\20\\23\\74a10d0cd31f5d41c19b92ddf4c138ceff01b9f4675f19dbf5\n",
      "Successfully built peewee\n",
      "Installing collected packages: peewee, multitasking, lxml, html5lib, frozendict, yfinance\n",
      "Successfully installed frozendict-2.3.8 html5lib-1.1 lxml-4.9.3 multitasking-0.0.11 peewee-3.17.0 yfinance-0.2.31\n",
      "Note: you may need to restart the kernel to use updated packages.\n"
     ]
    },
    {
     "name": "stderr",
     "output_type": "stream",
     "text": [
      "\n",
      "[notice] A new release of pip is available: 23.1.2 -> 23.3.1\n",
      "[notice] To update, run: python.exe -m pip install --upgrade pip\n"
     ]
    }
   ],
   "source": [
    "pip install yfinance"
   ]
  },
  {
   "cell_type": "code",
   "execution_count": 2,
   "id": "02c30753-4542-40e2-8b55-c948a390a612",
   "metadata": {},
   "outputs": [
    {
     "name": "stdout",
     "output_type": "stream",
     "text": [
      "[*********************100%%**********************]  1 of 1 completed\n"
     ]
    },
    {
     "data": {
      "text/plain": [
       "59814"
      ]
     },
     "execution_count": 2,
     "metadata": {},
     "output_type": "execute_result"
    }
   ],
   "source": [
    "import yfinance as yf\n",
    "import matplotlib.pyplot as plt\n",
    "# 1m, 2m, 5m, 15m, 30m, 60m, 90m, 1h, 1d, 5d, 1wk, 1mo, 3mo\n",
    "stock = yf.download(tickers=\"BTC-USD\", period=\"1wk\", interval=\"1m\")\n",
    "# Print the data\n"
   ]
  },
  {
   "cell_type": "code",
   "execution_count": 3,
   "id": "971c3f15-05b1-4a41-bae3-10c62dcf3e04",
   "metadata": {},
   "outputs": [
    {
     "data": {
      "text/plain": [
       "<Axes: xlabel='Datetime'>"
      ]
     },
     "execution_count": 3,
     "metadata": {},
     "output_type": "execute_result"
    },
    {
     "data": {
      "image/png": "[encoded data removed]",
      "text/plain": [
       "<Figure size 640x480 with 1 Axes>"
      ]
     },
     "metadata": {},
     "output_type": "display_data"
    }
   ],
   "source": [
    "stock[\"Close\"].plot()"
   ]
  },
  {
   "cell_type": "code",
   "execution_count": 6,
   "id": "c6b1f078-9157-4f72-8888-4338c856786c",
   "metadata": {},
   "outputs": [],
   "source": [
    "def buy(howmanystocks,price):\n",
    "    totcost=price*howmanystocks*(2-commission)\n",
    "    \n",
    "    totstocks+=howmanystocks\n",
    "    \n",
    "    money-=totcost\n",
    "    \n",
    "    return money,totstocks"
   ]
  },
  {
   "cell_type": "code",
   "execution_count": 7,
   "id": "2e32dcd3-085b-4453-aa74-d25252a8acb7",
   "metadata": {},
   "outputs": [],
   "source": [
    "def sell(howmanystocks,price):\n",
    "    totgain=price*howmanystocks*commission\n",
    "\n",
    "    totstocks+=howmanystocks\n",
    "    \n",
    "    money+=totgain\n",
    "    \n",
    "    return money,totstocks"
   ]
  },
  {
   "cell_type": "code",
   "execution_count": 5,
   "id": "baaf05e3-230b-48ff-8fa4-6480845bc260",
   "metadata": {},
   "outputs": [],
   "source": [
    "money=1000\n",
    "commission=0.999#0.1% but total is 0.2% both when you buy and sell\n",
    "totstocks=0"
   ]
  },
  {
   "cell_type": "code",
   "execution_count": null,
   "id": "16eea3ae-f698-4e6c-a6b4-136456dd2949",
   "metadata": {},
   "outputs": [],
   "source": [
    "for candle in stock[\"Close\"]:\n",
    "    money,totstocks=buy(3,candle)"
   ]
  }
 ],
 "metadata": {
  "kernelspec": {
   "display_name": "Python 3 (ipykernel)",
   "language": "python",
   "name": "python3"
  },
  "language_info": {
   "codemirror_mode": {
    "name": "ipython",
    "version": 3
   },
   "file_extension": ".py",
   "mimetype": "text/x-python",
   "name": "python",
   "nbconvert_exporter": "python",
   "pygments_lexer": "ipython3",
   "version": "3.11.4"
  }
 },
 "nbformat": 4,
 "nbformat_minor": 5
}
